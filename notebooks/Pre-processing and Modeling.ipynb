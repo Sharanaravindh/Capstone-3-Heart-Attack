{
 "cells": [
  {
   "cell_type": "code",
   "execution_count": null,
   "id": "5c70f34f",
   "metadata": {},
   "outputs": [],
   "source": [
    "pip install xgboost"
   ]
  },
  {
   "cell_type": "code",
   "execution_count": 1,
   "id": "f59fb043",
   "metadata": {},
   "outputs": [],
   "source": [
    "import pandas as pd\n",
    "import numpy as np\n",
    "import os\n",
    "import matplotlib.pyplot as plt\n",
    "import seaborn as sns\n",
    "import scipy as stats\n",
    "from sklearn.model_selection import train_test_split\n",
    "from sklearn.preprocessing import StandardScaler\n",
    "from library1.sb_utils import save_file\n",
    "from sklearn.model_selection import train_test_split,RandomizedSearchCV,KFold,StratifiedKFold\n",
    "from sklearn.linear_model import LogisticRegression\n",
    "from sklearn.metrics import accuracy_score, classification_report, confusion_matrix\n",
    "import sklearn.decomposition\n",
    "from pycaret.classification import *\n",
    "import mlflow\n",
    "from sklearn.pipeline import Pipeline\n",
    "from sklearn.cluster import KMeans\n",
    "from sklearn.ensemble import RandomForestClassifier\n",
    "from sklearn.model_selection import GridSearchCV\n",
    "from sklearn.metrics import roc_curve, auc\n",
    "from sklearn.ensemble import RandomForestRegressor\n",
    "from sklearn.metrics import mean_squared_error, r2_score\n",
    "from sklearn.ensemble import ExtraTreesClassifier\n",
    "from sklearn.neighbors import KNeighborsRegressor\n",
    "from sklearn.metrics import mean_squared_error\n",
    "from xgboost import XGBRegressor, XGBClassifier\n",
    "from lightgbm import LGBMRegressor, LGBMClassifier\n",
    "from catboost import CatBoostRegressor,Pool,CatBoostClassifier\n",
    "import xgboost as xgb\n",
    "from tqdm import tqdm\n",
    "from sklearn.ensemble import RandomForestClassifier\n",
    "from sklearn.model_selection import GridSearchCV\n",
    "from sklearn.metrics import mean_absolute_error, r2_score, accuracy_score, f1_score, recall_score, roc_auc_score, confusion_matrix"
   ]
  },
  {
   "cell_type": "markdown",
   "id": "d057bc85",
   "metadata": {},
   "source": [
    "## Load The Data<a id='3.4_Load_The_Data'></a>"
   ]
  },
  {
   "cell_type": "code",
   "execution_count": 2,
   "id": "b49dad7a",
   "metadata": {},
   "outputs": [],
   "source": [
    "ha_data = pd.read_csv('/Users/sharanaravindh/Desktop/springboard/Github repository/capstone 3 - Heart Attack prediction/Data/hearattack_cleaned.csv')"
   ]
  },
  {
   "cell_type": "markdown",
   "id": "689e4f49",
   "metadata": {},
   "source": [
    "Age: Numeric (e.g., 52)\n",
    "\n",
    "Sex: Categorical (0: Female, 1: Male)\n",
    "\n",
    "Chest Pain Type: Categorical (0: Typical Angina, 1: Atypical Angina, 2: Non-anginal Pain, 3: Asymptomatic)\n",
    "\n",
    "Resting Blood Pressure: Numeric (e.g., 125)\n",
    "\n",
    "Serum Cholesterol: Numeric in mg/dL (e.g., 212)\n",
    "\n",
    "Fasting Blood Sugar: Categorical (0: <= 120 mg/dL, 1: > 120 mg/dL)\n",
    "\n",
    "Resting Electrocardiographic Results: Categorical (0: Normal, 1: Abnormality, 2: Hypertrophy)\n",
    "\n",
    "Maximum Heart Rate Achieved: Numeric (e.g., 168)\n",
    "\n",
    "Exercise-Induced Angina: Categorical (0: No, 1: Yes)\n",
    "\n",
    "Oldpeak (ST Depression): Numeric (e.g., 1.0)\n",
    "\n",
    "Slope of Peak Exercise ST Segment: Categorical (0: Upsloping, 1: Flat, 2: Downsloping)\n",
    "\n",
    "Number of Major Vessels Colored by Fluoroscopy: Numeric (0 to 3)\n",
    "\n",
    "Thalassemia: Categorical (0: Normal, 1: Fixed Defect, 2: Reversible Defect)"
   ]
  },
  {
   "cell_type": "code",
   "execution_count": 3,
   "id": "007eeb16",
   "metadata": {},
   "outputs": [],
   "source": [
    "columns_to_convert = ['sex','chest_pain','rest_ecg','st_slope','thalassemia','exercise_induced_angina','blood_sugar']\n",
    "ha_data[columns_to_convert] = ha_data[columns_to_convert].astype('category')"
   ]
  },
  {
   "cell_type": "code",
   "execution_count": 4,
   "id": "57f3a105",
   "metadata": {},
   "outputs": [
    {
     "name": "stdout",
     "output_type": "stream",
     "text": [
      "<class 'pandas.core.frame.DataFrame'>\n",
      "RangeIndex: 1007 entries, 0 to 1006\n",
      "Data columns (total 14 columns):\n",
      " #   Column                   Non-Null Count  Dtype   \n",
      "---  ------                   --------------  -----   \n",
      " 0   age                      1007 non-null   int64   \n",
      " 1   sex                      1007 non-null   category\n",
      " 2   chest_pain               1007 non-null   category\n",
      " 3   rest_bp                  1007 non-null   int64   \n",
      " 4   cholesterol              1007 non-null   int64   \n",
      " 5   blood_sugar              1007 non-null   category\n",
      " 6   rest_ecg                 1007 non-null   category\n",
      " 7   max_heart_rate           1007 non-null   int64   \n",
      " 8   exercise_induced_angina  1007 non-null   category\n",
      " 9   st_depression            1007 non-null   float64 \n",
      " 10  st_slope                 1007 non-null   category\n",
      " 11  vessels_fluroscopy       1007 non-null   int64   \n",
      " 12  thalassemia              1007 non-null   category\n",
      " 13  target                   1007 non-null   float64 \n",
      "dtypes: category(7), float64(2), int64(5)\n",
      "memory usage: 63.1 KB\n"
     ]
    }
   ],
   "source": [
    "ha_data.info()"
   ]
  },
  {
   "cell_type": "code",
   "execution_count": 5,
   "id": "56f0adf1",
   "metadata": {},
   "outputs": [],
   "source": [
    "ha_data = ha_data.rename(columns={'target':'heart_attack_risk'})"
   ]
  },
  {
   "cell_type": "markdown",
   "id": "b5798464",
   "metadata": {},
   "source": [
    "### Preprocessing"
   ]
  },
  {
   "cell_type": "markdown",
   "id": "4e3a308d",
   "metadata": {},
   "source": [
    "#### Encoding"
   ]
  },
  {
   "cell_type": "code",
   "execution_count": 6,
   "id": "b5ee117a",
   "metadata": {},
   "outputs": [],
   "source": [
    "columns_to_encode=['chest_pain','blood_sugar','rest_ecg','exercise_induced_angina','vessels_fluroscopy','thalassemia']\n",
    "df = pd.get_dummies(ha_data, columns = columns_to_encode) "
   ]
  },
  {
   "cell_type": "markdown",
   "id": "5ef60d6d",
   "metadata": {},
   "source": [
    "#### Scaling"
   ]
  },
  {
   "cell_type": "code",
   "execution_count": 7,
   "id": "83021e98",
   "metadata": {},
   "outputs": [],
   "source": [
    "numerical_columns = df.select_dtypes(include=['float','int']).columns"
   ]
  },
  {
   "cell_type": "code",
   "execution_count": 8,
   "id": "6efcc928",
   "metadata": {},
   "outputs": [],
   "source": [
    "scaler = StandardScaler()\n",
    "x = scaler.fit_transform(df[numerical_columns]) \n",
    "df[numerical_columns]=pd.DataFrame(x, columns = numerical_columns)"
   ]
  },
  {
   "cell_type": "code",
   "execution_count": 9,
   "id": "8fddabdc",
   "metadata": {},
   "outputs": [],
   "source": [
    "df.drop_duplicates(inplace=True)"
   ]
  },
  {
   "cell_type": "code",
   "execution_count": 10,
   "id": "f3eacf72",
   "metadata": {
    "scrolled": true
   },
   "outputs": [
    {
     "data": {
      "text/html": [
       "<div>\n",
       "<style scoped>\n",
       "    .dataframe tbody tr th:only-of-type {\n",
       "        vertical-align: middle;\n",
       "    }\n",
       "\n",
       "    .dataframe tbody tr th {\n",
       "        vertical-align: top;\n",
       "    }\n",
       "\n",
       "    .dataframe thead th {\n",
       "        text-align: right;\n",
       "    }\n",
       "</style>\n",
       "<table border=\"1\" class=\"dataframe\">\n",
       "  <thead>\n",
       "    <tr style=\"text-align: right;\">\n",
       "      <th></th>\n",
       "      <th>age</th>\n",
       "      <th>sex</th>\n",
       "      <th>rest_bp</th>\n",
       "      <th>cholesterol</th>\n",
       "      <th>max_heart_rate</th>\n",
       "      <th>st_depression</th>\n",
       "      <th>st_slope</th>\n",
       "      <th>heart_attack_risk</th>\n",
       "      <th>chest_pain_0</th>\n",
       "      <th>chest_pain_1</th>\n",
       "      <th>...</th>\n",
       "      <th>exercise_induced_angina_0</th>\n",
       "      <th>exercise_induced_angina_1</th>\n",
       "      <th>vessels_fluroscopy_0</th>\n",
       "      <th>vessels_fluroscopy_1</th>\n",
       "      <th>vessels_fluroscopy_2</th>\n",
       "      <th>vessels_fluroscopy_3</th>\n",
       "      <th>thalassemia_0</th>\n",
       "      <th>thalassemia_1</th>\n",
       "      <th>thalassemia_2</th>\n",
       "      <th>thalassemia_3</th>\n",
       "    </tr>\n",
       "  </thead>\n",
       "  <tbody>\n",
       "    <tr>\n",
       "      <th>0</th>\n",
       "      <td>-0.287864</td>\n",
       "      <td>1</td>\n",
       "      <td>-0.372147</td>\n",
       "      <td>-0.673204</td>\n",
       "      <td>0.827753</td>\n",
       "      <td>-0.075393</td>\n",
       "      <td>2</td>\n",
       "      <td>-1.060967</td>\n",
       "      <td>1</td>\n",
       "      <td>0</td>\n",
       "      <td>...</td>\n",
       "      <td>1</td>\n",
       "      <td>0</td>\n",
       "      <td>0</td>\n",
       "      <td>0</td>\n",
       "      <td>1</td>\n",
       "      <td>0</td>\n",
       "      <td>0</td>\n",
       "      <td>0</td>\n",
       "      <td>0</td>\n",
       "      <td>1</td>\n",
       "    </tr>\n",
       "    <tr>\n",
       "      <th>1</th>\n",
       "      <td>-0.176799</td>\n",
       "      <td>1</td>\n",
       "      <td>0.477888</td>\n",
       "      <td>-0.847645</td>\n",
       "      <td>0.264253</td>\n",
       "      <td>1.707976</td>\n",
       "      <td>0</td>\n",
       "      <td>-0.571343</td>\n",
       "      <td>1</td>\n",
       "      <td>0</td>\n",
       "      <td>...</td>\n",
       "      <td>0</td>\n",
       "      <td>1</td>\n",
       "      <td>1</td>\n",
       "      <td>0</td>\n",
       "      <td>0</td>\n",
       "      <td>0</td>\n",
       "      <td>0</td>\n",
       "      <td>0</td>\n",
       "      <td>0</td>\n",
       "      <td>1</td>\n",
       "    </tr>\n",
       "    <tr>\n",
       "      <th>2</th>\n",
       "      <td>1.711300</td>\n",
       "      <td>1</td>\n",
       "      <td>0.761232</td>\n",
       "      <td>-1.409733</td>\n",
       "      <td>-1.036134</td>\n",
       "      <td>1.283364</td>\n",
       "      <td>0</td>\n",
       "      <td>-1.025994</td>\n",
       "      <td>1</td>\n",
       "      <td>0</td>\n",
       "      <td>...</td>\n",
       "      <td>0</td>\n",
       "      <td>1</td>\n",
       "      <td>1</td>\n",
       "      <td>0</td>\n",
       "      <td>0</td>\n",
       "      <td>0</td>\n",
       "      <td>0</td>\n",
       "      <td>0</td>\n",
       "      <td>0</td>\n",
       "      <td>1</td>\n",
       "    </tr>\n",
       "    <tr>\n",
       "      <th>3</th>\n",
       "      <td>0.711718</td>\n",
       "      <td>1</td>\n",
       "      <td>0.931239</td>\n",
       "      <td>-0.847645</td>\n",
       "      <td>0.524330</td>\n",
       "      <td>-0.924616</td>\n",
       "      <td>2</td>\n",
       "      <td>-0.886101</td>\n",
       "      <td>1</td>\n",
       "      <td>0</td>\n",
       "      <td>...</td>\n",
       "      <td>1</td>\n",
       "      <td>0</td>\n",
       "      <td>0</td>\n",
       "      <td>1</td>\n",
       "      <td>0</td>\n",
       "      <td>0</td>\n",
       "      <td>0</td>\n",
       "      <td>0</td>\n",
       "      <td>0</td>\n",
       "      <td>1</td>\n",
       "    </tr>\n",
       "    <tr>\n",
       "      <th>4</th>\n",
       "      <td>0.822783</td>\n",
       "      <td>0</td>\n",
       "      <td>0.364550</td>\n",
       "      <td>0.916148</td>\n",
       "      <td>-1.859712</td>\n",
       "      <td>0.688908</td>\n",
       "      <td>1</td>\n",
       "      <td>-1.130913</td>\n",
       "      <td>1</td>\n",
       "      <td>0</td>\n",
       "      <td>...</td>\n",
       "      <td>1</td>\n",
       "      <td>0</td>\n",
       "      <td>0</td>\n",
       "      <td>0</td>\n",
       "      <td>0</td>\n",
       "      <td>1</td>\n",
       "      <td>0</td>\n",
       "      <td>0</td>\n",
       "      <td>1</td>\n",
       "      <td>0</td>\n",
       "    </tr>\n",
       "  </tbody>\n",
       "</table>\n",
       "<p>5 rows × 27 columns</p>\n",
       "</div>"
      ],
      "text/plain": [
       "        age sex   rest_bp  cholesterol  max_heart_rate  st_depression  \\\n",
       "0 -0.287864   1 -0.372147    -0.673204        0.827753      -0.075393   \n",
       "1 -0.176799   1  0.477888    -0.847645        0.264253       1.707976   \n",
       "2  1.711300   1  0.761232    -1.409733       -1.036134       1.283364   \n",
       "3  0.711718   1  0.931239    -0.847645        0.524330      -0.924616   \n",
       "4  0.822783   0  0.364550     0.916148       -1.859712       0.688908   \n",
       "\n",
       "  st_slope  heart_attack_risk  chest_pain_0  chest_pain_1  ...  \\\n",
       "0        2          -1.060967             1             0  ...   \n",
       "1        0          -0.571343             1             0  ...   \n",
       "2        0          -1.025994             1             0  ...   \n",
       "3        2          -0.886101             1             0  ...   \n",
       "4        1          -1.130913             1             0  ...   \n",
       "\n",
       "   exercise_induced_angina_0  exercise_induced_angina_1  vessels_fluroscopy_0  \\\n",
       "0                          1                          0                     0   \n",
       "1                          0                          1                     1   \n",
       "2                          0                          1                     1   \n",
       "3                          1                          0                     0   \n",
       "4                          1                          0                     0   \n",
       "\n",
       "   vessels_fluroscopy_1  vessels_fluroscopy_2  vessels_fluroscopy_3  \\\n",
       "0                     0                     1                     0   \n",
       "1                     0                     0                     0   \n",
       "2                     0                     0                     0   \n",
       "3                     1                     0                     0   \n",
       "4                     0                     0                     1   \n",
       "\n",
       "   thalassemia_0  thalassemia_1  thalassemia_2  thalassemia_3  \n",
       "0              0              0              0              1  \n",
       "1              0              0              0              1  \n",
       "2              0              0              0              1  \n",
       "3              0              0              0              1  \n",
       "4              0              0              1              0  \n",
       "\n",
       "[5 rows x 27 columns]"
      ]
     },
     "execution_count": 10,
     "metadata": {},
     "output_type": "execute_result"
    }
   ],
   "source": [
    "df.head()"
   ]
  },
  {
   "cell_type": "code",
   "execution_count": 11,
   "id": "000dd661",
   "metadata": {},
   "outputs": [],
   "source": [
    "X = df.drop('heart_attack_risk',axis=1)\n",
    "y = df['heart_attack_risk']"
   ]
  },
  {
   "cell_type": "code",
   "execution_count": 12,
   "id": "9fb99b42",
   "metadata": {},
   "outputs": [],
   "source": [
    "X_train, X_test, y_train, y_test = train_test_split(X, y, test_size=0.2, random_state=42)"
   ]
  },
  {
   "cell_type": "markdown",
   "id": "e238b2cb",
   "metadata": {},
   "source": [
    "### K-nearest Neighbors"
   ]
  },
  {
   "cell_type": "code",
   "execution_count": 13,
   "id": "5d8a3bf7",
   "metadata": {},
   "outputs": [],
   "source": [
    "knn_regressor = KNeighborsRegressor(n_neighbors=3)\n",
    "knn_regressor.fit(X_train, y_train)\n",
    "predictions = knn_regressor.predict(X_test)"
   ]
  },
  {
   "cell_type": "code",
   "execution_count": 14,
   "id": "ca7cf9c8",
   "metadata": {
    "scrolled": true
   },
   "outputs": [
    {
     "name": "stdout",
     "output_type": "stream",
     "text": [
      "Mean Squared Error (MSE): 0.347215007320449\n"
     ]
    }
   ],
   "source": [
    "mse = mean_squared_error(y_test, predictions)\n",
    "print(f\"Mean Squared Error (MSE): {mse}\")"
   ]
  },
  {
   "cell_type": "code",
   "execution_count": 15,
   "id": "a1f98db2",
   "metadata": {},
   "outputs": [
    {
     "name": "stdout",
     "output_type": "stream",
     "text": [
      "191 191 191\n"
     ]
    }
   ],
   "source": [
    "print(len(X_test), len(y_test), len(predictions))"
   ]
  },
  {
   "cell_type": "code",
   "execution_count": 16,
   "id": "e311953f",
   "metadata": {
    "scrolled": true
   },
   "outputs": [
    {
     "data": {
      "image/png": "[encoded data removed]",
      "text/plain": [
       "<Figure size 800x600 with 1 Axes>"
      ]
     },
     "metadata": {},
     "output_type": "display_data"
    }
   ],
   "source": [
    "results_df = pd.DataFrame({'Actual': y_test, 'Predicted': predictions})\n",
    "\n",
    "# Scatter plot\n",
    "plt.figure(figsize=(8, 6))\n",
    "sns.scatterplot(x='Actual', y='Predicted', data=results_df)\n",
    "plt.title('Actual vs Predicted Heart Attack Risk')\n",
    "plt.xlabel('Actual Heart Attack Risk')\n",
    "plt.ylabel('Predicted Heart Attack Risk')\n",
    "plt.show()"
   ]
  },
  {
   "cell_type": "markdown",
   "id": "eae5112c",
   "metadata": {},
   "source": [
    "The Mean Squared Error (MSE) for the KNN Regressor model is calculated to be 0.3472. The MSE is a measure of the average squared difference between the predicted and actual values of the target variable, in this case, the heart attack risk.\n",
    "\n",
    "The MSE of 0.3472 suggests that, on average, the squared difference between the predicted and actual heart attack risk values is relatively moderate. "
   ]
  },
  {
   "cell_type": "markdown",
   "id": "a9a6295c",
   "metadata": {},
   "source": [
    "### XG Boost"
   ]
  },
  {
   "cell_type": "markdown",
   "id": "a7cff887",
   "metadata": {},
   "source": [
    "XGBoost is preferred over KNN Regressor for its superior ability to capture complex relationships and computational efficiency, especially with large datasets. XGBoost gracefully handles missing values, provides feature importance scores, and is less prone to overfitting due to its ensemble nature. The rich set of hyperparameters in XGBoost enables fine-tuning for optimal performance, making it a versatile choice across different scenarios."
   ]
  },
  {
   "cell_type": "code",
   "execution_count": 17,
   "id": "806ab3c3",
   "metadata": {},
   "outputs": [],
   "source": [
    "dtrain = xgb.DMatrix(X_train, label=y_train,enable_categorical=True)\n",
    "dtest = xgb.DMatrix(X_test, label=y_test,enable_categorical=True)"
   ]
  },
  {
   "cell_type": "code",
   "execution_count": 18,
   "id": "e0f6394f",
   "metadata": {},
   "outputs": [],
   "source": [
    "params = {\n",
    "    'objective': 'reg:squarederror',  \n",
    "    'eval_metric': 'rmse',             \n",
    "    'max_depth': 3,                    \n",
    "    'learning_rate': 0.1,              \n",
    "    'n_estimators': 100}                \n",
    "\n",
    "model = xgb.train(params, dtrain, num_boost_round=100)\n",
    "\n",
    "predictions = model.predict(dtest)"
   ]
  },
  {
   "cell_type": "code",
   "execution_count": 19,
   "id": "1d13ab31",
   "metadata": {},
   "outputs": [
    {
     "name": "stdout",
     "output_type": "stream",
     "text": [
      "Mean Squared Error (MSE): 0.303903055837933\n"
     ]
    }
   ],
   "source": [
    "mse = mean_squared_error(y_test, predictions)\n",
    "print(f\"Mean Squared Error (MSE): {mse}\")"
   ]
  },
  {
   "cell_type": "markdown",
   "id": "1be70fa1",
   "metadata": {},
   "source": [
    "#### Hyperparameter Tuning"
   ]
  },
  {
   "cell_type": "code",
   "execution_count": 20,
   "id": "621209d0",
   "metadata": {},
   "outputs": [],
   "source": [
    "dtrain = xgb.DMatrix(X_train, label=y_train,enable_categorical=True)\n",
    "dtest = xgb.DMatrix(X_test, label=y_test,enable_categorical=True)"
   ]
  },
  {
   "cell_type": "code",
   "execution_count": 23,
   "id": "e3b06b60",
   "metadata": {
    "scrolled": false
   },
   "outputs": [
    {
     "name": "stderr",
     "output_type": "stream",
     "text": [
      " 30%|█████████████▏                              | 3/10 [00:00<00:00, 14.96it/s]"
     ]
    },
    {
     "name": "stdout",
     "output_type": "stream",
     "text": [
      "Fold 1 MAE: 0.2699969445143276\n",
      "Fold 2 MAE: 0.32083217651443857\n",
      "Fold 3 MAE: 0.261517942795249\n",
      "Fold 4 MAE: 0.2739631997199913\n",
      "Fold 5 MAE: 0.3080980818048531\n"
     ]
    },
    {
     "name": "stderr",
     "output_type": "stream",
     "text": [
      "100%|███████████████████████████████████████████| 10/10 [00:00<00:00, 18.55it/s]"
     ]
    },
    {
     "name": "stdout",
     "output_type": "stream",
     "text": [
      "Fold 6 MAE: 0.29330322493609357\n",
      "Fold 7 MAE: 0.28859344189750974\n",
      "Fold 8 MAE: 0.2649348402838404\n",
      "Fold 9 MAE: 0.2818341650631874\n",
      "Fold 10 MAE: 0.273140957513488\n",
      "Average MAE: 0.2836214975042979\n"
     ]
    },
    {
     "name": "stderr",
     "output_type": "stream",
     "text": [
      "\n"
     ]
    }
   ],
   "source": [
    "model = XGBRegressor(enable_categorical=True)  \n",
    "k = 10\n",
    "kf = KFold(n_splits=k)\n",
    "errors = []\n",
    "\n",
    "for fold, (train_index, test_index) in enumerate(tqdm(kf.split(X, y), total=k)):\n",
    "    X_train, X_test = X.iloc[train_index], X.iloc[test_index]\n",
    "    y_train, y_test = y.iloc[train_index], y.iloc[test_index]\n",
    "    \n",
    "    model.fit(X_train, y_train)\n",
    "    \n",
    "    y_pred = model.predict(X_test)\n",
    "    \n",
    "    error = mean_absolute_error(y_test, y_pred)\n",
    "    errors.append(error)\n",
    "    \n",
    "    print(f\"Fold {fold+1} MAE: {error}\")\n",
    "\n",
    "average_error = np.mean(errors)\n",
    "print(\"Average MAE:\", average_error)"
   ]
  },
  {
   "cell_type": "code",
   "execution_count": 24,
   "id": "7620077d",
   "metadata": {
    "scrolled": true
   },
   "outputs": [
    {
     "data": {
      "text/plain": [
       "[0.2699969445143276,\n",
       " 0.32083217651443857,\n",
       " 0.261517942795249,\n",
       " 0.2739631997199913,\n",
       " 0.3080980818048531,\n",
       " 0.29330322493609357,\n",
       " 0.28859344189750974,\n",
       " 0.2649348402838404,\n",
       " 0.2818341650631874,\n",
       " 0.273140957513488]"
      ]
     },
     "execution_count": 24,
     "metadata": {},
     "output_type": "execute_result"
    }
   ],
   "source": [
    "errors"
   ]
  },
  {
   "cell_type": "code",
   "execution_count": 25,
   "id": "18a00e61",
   "metadata": {
    "scrolled": true
   },
   "outputs": [
    {
     "data": {
      "image/png": "[encoded data removed]",
      "text/plain": [
       "<Figure size 800x600 with 1 Axes>"
      ]
     },
     "metadata": {},
     "output_type": "display_data"
    }
   ],
   "source": [
    "plt.figure(figsize=(8, 6))\n",
    "plt.plot(range(1, k+1), errors, color='blue')\n",
    "plt.xlabel('Fold')\n",
    "plt.ylabel('Mean Absolute Error (MAE)')\n",
    "plt.title('MAE for Each Fold in k-Fold Cross-Validation')\n",
    "plt.show()"
   ]
  },
  {
   "cell_type": "markdown",
   "id": "b8f0c500",
   "metadata": {},
   "source": [
    "### Random Forest Classifer"
   ]
  },
  {
   "cell_type": "code",
   "execution_count": 27,
   "id": "ef211fbd",
   "metadata": {},
   "outputs": [],
   "source": [
    "threshold = 0.5  \n",
    "y_binary = (y > threshold).astype(int) "
   ]
  },
  {
   "cell_type": "markdown",
   "id": "0ce2eaad",
   "metadata": {},
   "source": [
    "##### I'm splitting the heart attack risk probability into a binary category by separating the risk below 0.5 as 0 and above 0.5 as 1. This will allow me to run a classifier program. "
   ]
  },
  {
   "cell_type": "code",
   "execution_count": 29,
   "id": "675f9ae2",
   "metadata": {},
   "outputs": [],
   "source": [
    "X_train, X_test, y_train, y_test = train_test_split(X, y_binary, test_size=0.2, random_state=42)\n"
   ]
  },
  {
   "cell_type": "code",
   "execution_count": 30,
   "id": "b8d807c9",
   "metadata": {},
   "outputs": [
    {
     "name": "stdout",
     "output_type": "stream",
     "text": [
      "Best Parameters: {'max_depth': None, 'n_estimators': 50}\n"
     ]
    }
   ],
   "source": [
    "param_grid = {\n",
    "    'n_estimators': [50, 100, 200],\n",
    "    'max_depth': [None, 10, 20]\n",
    "    }\n",
    "    \n",
    "rf_model_tuned = RandomForestClassifier(random_state=42)\n",
    "    \n",
    "grid_search = GridSearchCV(estimator=rf_model_tuned, param_grid=param_grid, cv=5, scoring='accuracy')\n",
    "    \n",
    "grid_search.fit(X, y_binary)\n",
    "\n",
    "best_params = grid_search.best_params_\n",
    "print(\"Best Parameters:\", best_params)"
   ]
  },
  {
   "cell_type": "code",
   "execution_count": 31,
   "id": "9f2ee434",
   "metadata": {},
   "outputs": [],
   "source": [
    "final_rf_model = RandomForestClassifier(**best_params, random_state=42)\n",
    "\n",
    "final_rf_model.fit(X_train, y_train)\n",
    "\n",
    "y_pred = final_rf_model.predict(X_test)"
   ]
  },
  {
   "cell_type": "code",
   "execution_count": 33,
   "id": "d408e9f1",
   "metadata": {},
   "outputs": [
    {
     "name": "stdout",
     "output_type": "stream",
     "text": [
      "Accuracy: 0.9843\n",
      "Classification Report:\n",
      "              precision    recall  f1-score   support\n",
      "\n",
      "           0       0.97      1.00      0.98        98\n",
      "           1       1.00      0.97      0.98        93\n",
      "\n",
      "    accuracy                           0.98       191\n",
      "   macro avg       0.99      0.98      0.98       191\n",
      "weighted avg       0.98      0.98      0.98       191\n",
      "\n",
      "Confusion Matrix:\n",
      "[[98  0]\n",
      " [ 3 90]]\n"
     ]
    }
   ],
   "source": [
    "accuracy = accuracy_score(y_test, y_pred)\n",
    "print(f\"Accuracy: {accuracy:.4f}\")\n",
    "\n",
    "print(\"Classification Report:\")\n",
    "print(classification_report(y_test, y_pred))\n",
    "\n",
    "print(\"Confusion Matrix:\")\n",
    "print(confusion_matrix(y_test, y_pred))"
   ]
  },
  {
   "cell_type": "markdown",
   "id": "fc795d03",
   "metadata": {},
   "source": [
    "Precision: For class 0 (below 0.5 risk), precision is 0.97. This means that 97% of the instances predicted as class 0 were actually below 0.5 risk.\n",
    "\n",
    "Recall: For class 0, recall is 1.00. This indicates that the model correctly identified all instances where the true risk was below 0.5.\n",
    "\n",
    "F1-score: The F1-score for class 0 is 0.98, providing a balanced measure of precision and recall."
   ]
  }
 ],
 "metadata": {
  "kernelspec": {
   "display_name": "Python 3 (ipykernel)",
   "language": "python",
   "name": "python3"
  },
  "language_info": {
   "codemirror_mode": {
    "name": "ipython",
    "version": 3
   },
   "file_extension": ".py",
   "mimetype": "text/x-python",
   "name": "python",
   "nbconvert_exporter": "python",
   "pygments_lexer": "ipython3",
   "version": "3.10.9"
  }
 },
 "nbformat": 4,
 "nbformat_minor": 5
}
