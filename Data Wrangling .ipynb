{
 "cells": [
  {
   "cell_type": "markdown",
   "id": "c6a1b685",
   "metadata": {},
   "source": [
    "### Introduction"
   ]
  },
  {
   "cell_type": "markdown",
   "id": "3542b879",
   "metadata": {},
   "source": [
    "Dataset: https://www.kaggle.com/datasets/juledz/heart-attack-prediction/data \n",
    "This data set contains details of various health measurements that research has shown to be indicative of heart attacks in patients. "
   ]
  },
  {
   "cell_type": "markdown",
   "id": "88874715",
   "metadata": {},
   "source": [
    "### Imports"
   ]
  },
  {
   "cell_type": "code",
   "execution_count": 1,
   "id": "f1d402c1",
   "metadata": {
    "scrolled": true
   },
   "outputs": [
    {
     "name": "stdout",
     "output_type": "stream",
     "text": [
      "Requirement already satisfied: library in /Users/sharanaravindh/anaconda3/lib/python3.10/site-packages (0.0.0)\n",
      "Note: you may need to restart the kernel to use updated packages.\n"
     ]
    }
   ],
   "source": [
    "pip install library"
   ]
  },
  {
   "cell_type": "code",
   "execution_count": 2,
   "id": "bddeb177",
   "metadata": {},
   "outputs": [],
   "source": [
    "import pandas as pd\n",
    "import matplotlib.pyplot as plt\n",
    "import numpy as np\n",
    "import seaborn as sns\n",
    "import os\n",
    "from datetime import datetime\n",
    "from library1.sb_utils import save_file\n",
    "\n",
    "df = pd.read_csv('/Users/sharanaravindh/Desktop/springboard/Github repository/Untitled Folder/Data/heart.csv')"
   ]
  },
  {
   "cell_type": "markdown",
   "id": "0ed31b5f",
   "metadata": {},
   "source": [
    "## Data Definition<a id='2.5_Load_The_Ski_Resort_Data'></a>"
   ]
  },
  {
   "cell_type": "code",
   "execution_count": 3,
   "id": "26e8910a",
   "metadata": {
    "scrolled": true
   },
   "outputs": [
    {
     "name": "stdout",
     "output_type": "stream",
     "text": [
      "<class 'pandas.core.frame.DataFrame'>\n",
      "RangeIndex: 1025 entries, 0 to 1024\n",
      "Data columns (total 14 columns):\n",
      " #   Column    Non-Null Count  Dtype  \n",
      "---  ------    --------------  -----  \n",
      " 0   age       1025 non-null   int64  \n",
      " 1   sex       1025 non-null   int64  \n",
      " 2   cp        1025 non-null   int64  \n",
      " 3   trestbps  1025 non-null   int64  \n",
      " 4   chol      1025 non-null   int64  \n",
      " 5   fbs       1025 non-null   int64  \n",
      " 6   restecg   1025 non-null   int64  \n",
      " 7   thalach   1025 non-null   int64  \n",
      " 8   exang     1025 non-null   int64  \n",
      " 9   oldpeak   1025 non-null   float64\n",
      " 10  slope     1025 non-null   int64  \n",
      " 11  ca        1025 non-null   int64  \n",
      " 12  thal      1025 non-null   int64  \n",
      " 13  target    1025 non-null   float64\n",
      "dtypes: float64(2), int64(12)\n",
      "memory usage: 112.2 KB\n"
     ]
    },
    {
     "data": {
      "text/html": [
       "<div>\n",
       "<style scoped>\n",
       "    .dataframe tbody tr th:only-of-type {\n",
       "        vertical-align: middle;\n",
       "    }\n",
       "\n",
       "    .dataframe tbody tr th {\n",
       "        vertical-align: top;\n",
       "    }\n",
       "\n",
       "    .dataframe thead th {\n",
       "        text-align: right;\n",
       "    }\n",
       "</style>\n",
       "<table border=\"1\" class=\"dataframe\">\n",
       "  <thead>\n",
       "    <tr style=\"text-align: right;\">\n",
       "      <th></th>\n",
       "      <th>age</th>\n",
       "      <th>sex</th>\n",
       "      <th>cp</th>\n",
       "      <th>trestbps</th>\n",
       "      <th>chol</th>\n",
       "      <th>fbs</th>\n",
       "      <th>restecg</th>\n",
       "      <th>thalach</th>\n",
       "      <th>exang</th>\n",
       "      <th>oldpeak</th>\n",
       "      <th>slope</th>\n",
       "      <th>ca</th>\n",
       "      <th>thal</th>\n",
       "      <th>target</th>\n",
       "    </tr>\n",
       "  </thead>\n",
       "  <tbody>\n",
       "    <tr>\n",
       "      <th>0</th>\n",
       "      <td>52</td>\n",
       "      <td>1</td>\n",
       "      <td>0</td>\n",
       "      <td>125</td>\n",
       "      <td>212</td>\n",
       "      <td>0</td>\n",
       "      <td>1</td>\n",
       "      <td>168</td>\n",
       "      <td>0</td>\n",
       "      <td>1.0</td>\n",
       "      <td>2</td>\n",
       "      <td>2</td>\n",
       "      <td>3</td>\n",
       "      <td>0.23</td>\n",
       "    </tr>\n",
       "    <tr>\n",
       "      <th>1</th>\n",
       "      <td>53</td>\n",
       "      <td>1</td>\n",
       "      <td>0</td>\n",
       "      <td>140</td>\n",
       "      <td>203</td>\n",
       "      <td>1</td>\n",
       "      <td>0</td>\n",
       "      <td>155</td>\n",
       "      <td>1</td>\n",
       "      <td>3.1</td>\n",
       "      <td>0</td>\n",
       "      <td>0</td>\n",
       "      <td>3</td>\n",
       "      <td>0.37</td>\n",
       "    </tr>\n",
       "    <tr>\n",
       "      <th>2</th>\n",
       "      <td>70</td>\n",
       "      <td>1</td>\n",
       "      <td>0</td>\n",
       "      <td>145</td>\n",
       "      <td>174</td>\n",
       "      <td>0</td>\n",
       "      <td>1</td>\n",
       "      <td>125</td>\n",
       "      <td>1</td>\n",
       "      <td>2.6</td>\n",
       "      <td>0</td>\n",
       "      <td>0</td>\n",
       "      <td>3</td>\n",
       "      <td>0.24</td>\n",
       "    </tr>\n",
       "    <tr>\n",
       "      <th>3</th>\n",
       "      <td>61</td>\n",
       "      <td>1</td>\n",
       "      <td>0</td>\n",
       "      <td>148</td>\n",
       "      <td>203</td>\n",
       "      <td>0</td>\n",
       "      <td>1</td>\n",
       "      <td>161</td>\n",
       "      <td>0</td>\n",
       "      <td>0.0</td>\n",
       "      <td>2</td>\n",
       "      <td>1</td>\n",
       "      <td>3</td>\n",
       "      <td>0.28</td>\n",
       "    </tr>\n",
       "    <tr>\n",
       "      <th>4</th>\n",
       "      <td>62</td>\n",
       "      <td>0</td>\n",
       "      <td>0</td>\n",
       "      <td>138</td>\n",
       "      <td>294</td>\n",
       "      <td>1</td>\n",
       "      <td>1</td>\n",
       "      <td>106</td>\n",
       "      <td>0</td>\n",
       "      <td>1.9</td>\n",
       "      <td>1</td>\n",
       "      <td>3</td>\n",
       "      <td>2</td>\n",
       "      <td>0.21</td>\n",
       "    </tr>\n",
       "  </tbody>\n",
       "</table>\n",
       "</div>"
      ],
      "text/plain": [
       "   age  sex  cp  trestbps  chol  fbs  restecg  thalach  exang  oldpeak  slope  \\\n",
       "0   52    1   0       125   212    0        1      168      0      1.0      2   \n",
       "1   53    1   0       140   203    1        0      155      1      3.1      0   \n",
       "2   70    1   0       145   174    0        1      125      1      2.6      0   \n",
       "3   61    1   0       148   203    0        1      161      0      0.0      2   \n",
       "4   62    0   0       138   294    1        1      106      0      1.9      1   \n",
       "\n",
       "   ca  thal  target  \n",
       "0   2     3    0.23  \n",
       "1   0     3    0.37  \n",
       "2   0     3    0.24  \n",
       "3   1     3    0.28  \n",
       "4   3     2    0.21  "
      ]
     },
     "execution_count": 3,
     "metadata": {},
     "output_type": "execute_result"
    }
   ],
   "source": [
    "#the dataset has 1025 entries \n",
    "df.info()\n",
    "df.head()"
   ]
  },
  {
   "cell_type": "code",
   "execution_count": 4,
   "id": "842f6c15",
   "metadata": {
    "scrolled": true
   },
   "outputs": [
    {
     "data": {
      "text/plain": [
       "Index(['age', 'sex', 'cp', 'trestbps', 'chol', 'fbs', 'restecg', 'thalach',\n",
       "       'exang', 'oldpeak', 'slope', 'ca', 'thal', 'target'],\n",
       "      dtype='object')"
      ]
     },
     "execution_count": 4,
     "metadata": {},
     "output_type": "execute_result"
    }
   ],
   "source": [
    "df.columns"
   ]
  },
  {
   "cell_type": "markdown",
   "id": "07a595cb",
   "metadata": {},
   "source": [
    "-Age (Numeric): Represents the age of the individual.\n",
    "\n",
    "-Sex (Categorical): Indicates the gender of the individual (0: Female, 1: Male).\n",
    "\n",
    "-Chest Pain Type (Categorical): Describes the type of chest pain experienced by the -individual, categorized into four types.\n",
    "\n",
    "-Resting Blood Pressure (Numeric): Represents the blood pressure of the individual at rest.\n",
    "-Serum Cholesterol (Numeric): Indicates the cholesterol levels in milligrams per deciliter (mg/dL).\n",
    "\n",
    "-Fasting Blood Sugar (Categorical): Indicates whether the fasting blood sugar is above 120 mg/dL (1: Yes, 0: No).\n",
    "\n",
    "-Resting Electrocardiographic Results (Categorical): Describes the resting electrocardiographic results as normal, abnormal, or hypertrophy.\n",
    "\n",
    "-Maximum Heart Rate Achieved (Numeric): Represents the highest heart rate achieved during testing.\n",
    "\n",
    "-Exercise-Induced Angina (Categorical): Indicates whether angina was induced by exercise (1: Yes, 0: No).\n",
    "\n",
    "-Oldpeak (ST Depression) (Numeric): Represents the ST depression induced by exercise relative to rest.\n",
    "\n",
    "-Slope of Peak Exercise ST Segment (Categorical): Describes the slope of the peak exercise ST segment as upsloping, flat, or downsloping.\n",
    "\n",
    "-Number of Major Vessels Colored by Fluoroscopy (Numeric): Represents the count of major vessels colored by fluoroscopy (angiography).\n",
    "\n",
    "-Thalassemia (Categorical): Describes thalassemia as normal, fixed defect, or reversible defect."
   ]
  },
  {
   "cell_type": "code",
   "execution_count": 5,
   "id": "7d8b834e",
   "metadata": {
    "scrolled": false
   },
   "outputs": [
    {
     "data": {
      "text/plain": [
       "age          41\n",
       "sex           2\n",
       "cp            4\n",
       "trestbps     49\n",
       "chol        152\n",
       "fbs           2\n",
       "restecg       3\n",
       "thalach      91\n",
       "exang         2\n",
       "oldpeak      40\n",
       "slope         3\n",
       "ca            5\n",
       "thal          4\n",
       "target       52\n",
       "dtype: int64"
      ]
     },
     "execution_count": 5,
     "metadata": {},
     "output_type": "execute_result"
    }
   ],
   "source": [
    "#Number of unique values in each column\n",
    "df.nunique()"
   ]
  },
  {
   "cell_type": "code",
   "execution_count": 6,
   "id": "6e8c4de0",
   "metadata": {
    "scrolled": false
   },
   "outputs": [
    {
     "data": {
      "text/plain": [
       "age           int64\n",
       "sex           int64\n",
       "cp            int64\n",
       "trestbps      int64\n",
       "chol          int64\n",
       "fbs           int64\n",
       "restecg       int64\n",
       "thalach       int64\n",
       "exang         int64\n",
       "oldpeak     float64\n",
       "slope         int64\n",
       "ca            int64\n",
       "thal          int64\n",
       "target      float64\n",
       "dtype: object"
      ]
     },
     "execution_count": 6,
     "metadata": {},
     "output_type": "execute_result"
    }
   ],
   "source": [
    "df.dtypes"
   ]
  },
  {
   "cell_type": "markdown",
   "id": "926dfa04",
   "metadata": {},
   "source": [
    "## Data Cleaning<a id='2.5_Load_The_Ski_Resort_Data'></a>"
   ]
  },
  {
   "cell_type": "code",
   "execution_count": 9,
   "id": "5ecaf8f5",
   "metadata": {},
   "outputs": [],
   "source": [
    "# Renaming columns for easier understanding \n",
    "df = df.rename(columns={'cp':'chest_pain', 'trestbps':'rest_bp', 'chol':'cholesterol', 'fbs':'blood_sugar', 'restecg':'rest_ecg', 'thalach':'max_heart_rate', 'exang':'exercise_induced_angina', 'oldpeak':'st_depression', 'slope':'st_slope', 'ca':'vessels_fluroscopy', 'thal':'thalassemia',})"
   ]
  },
  {
   "cell_type": "code",
   "execution_count": 11,
   "id": "16b50972",
   "metadata": {},
   "outputs": [
    {
     "name": "stdout",
     "output_type": "stream",
     "text": [
      "<class 'pandas.core.frame.DataFrame'>\n",
      "RangeIndex: 1025 entries, 0 to 1024\n",
      "Data columns (total 14 columns):\n",
      " #   Column                   Non-Null Count  Dtype  \n",
      "---  ------                   --------------  -----  \n",
      " 0   age                      1025 non-null   int64  \n",
      " 1   sex                      1025 non-null   int64  \n",
      " 2   chest_pain               1025 non-null   int64  \n",
      " 3   rest_bp                  1025 non-null   int64  \n",
      " 4   cholesterol              1025 non-null   int64  \n",
      " 5   blood_sugar              1025 non-null   int64  \n",
      " 6   rest_ecg                 1025 non-null   int64  \n",
      " 7   max_heart_rate           1025 non-null   int64  \n",
      " 8   exercise_induced_angina  1025 non-null   int64  \n",
      " 9   st_depression            1025 non-null   float64\n",
      " 10  st_slope                 1025 non-null   int64  \n",
      " 11  vessels_fluroscopy       1025 non-null   int64  \n",
      " 12  thalassemia              1025 non-null   int64  \n",
      " 13  target                   1025 non-null   float64\n",
      "dtypes: float64(2), int64(12)\n",
      "memory usage: 112.2 KB\n"
     ]
    }
   ],
   "source": [
    "df.info()"
   ]
  },
  {
   "cell_type": "code",
   "execution_count": 10,
   "id": "7bbe6eb6",
   "metadata": {
    "scrolled": true
   },
   "outputs": [
    {
     "data": {
      "text/plain": [
       "age                        False\n",
       "sex                        False\n",
       "chest_pain                 False\n",
       "rest_bp                    False\n",
       "cholesterol                False\n",
       "blood_sugar                False\n",
       "rest_ecg                   False\n",
       "max_heart_rate             False\n",
       "exercise_induced_angina    False\n",
       "st_depression              False\n",
       "st_slope                   False\n",
       "vessels_fluroscopy         False\n",
       "thalassemia                False\n",
       "target                     False\n",
       "dtype: bool"
      ]
     },
     "execution_count": 10,
     "metadata": {},
     "output_type": "execute_result"
    }
   ],
   "source": [
    "df.isnull().any()\n",
    "#the dataset has no null values"
   ]
  },
  {
   "cell_type": "markdown",
   "id": "188c1655",
   "metadata": {},
   "source": [
    "Age: Numeric (e.g., 52) \n",
    "\n",
    "Sex: Categorical (0: Female, 1: Male) \n",
    "\n",
    "Chest Pain Type: Categorical (0: Typical Angina, 1: Atypical Angina, 2: Non-anginal Pain, 3: Asymptomatic) \n",
    "\n",
    "Resting Blood Pressure: Numeric (e.g., 125) \n",
    "\n",
    "Serum Cholesterol: Numeric in mg/dL (e.g., 212) \n",
    "\n",
    "Fasting Blood Sugar: Categorical (0: <= 120 mg/dL, 1: > 120 mg/dL) \n",
    "\n",
    "Resting Electrocardiographic Results: Categorical (0: Normal, 1: Abnormality, 2: Hypertrophy) \n",
    "\n",
    "Maximum Heart Rate Achieved: Numeric (e.g., 168) \n",
    "\n",
    "Exercise-Induced Angina: Categorical (0: No, 1: Yes) \n",
    "\n",
    "Oldpeak (ST Depression): Numeric (e.g., 1.0) \n",
    "\n",
    "Slope of Peak Exercise ST Segment: Categorical (0: Upsloping, 1: Flat, 2: Downsloping) \n",
    "\n",
    "Number of Major Vessels Colored by Fluoroscopy: Numeric (0 to 3) \n",
    "\n",
    "Thalassemia: Categorical (0: Normal, 1: Fixed Defect, 2: Reversible Defect)"
   ]
  },
  {
   "cell_type": "code",
   "execution_count": 22,
   "id": "89ce5cf1",
   "metadata": {},
   "outputs": [],
   "source": [
    "#Converting some of the int columns which are supposed to be cateogorical \n",
    "columns_to_convert = ['sex','chest_pain','rest_ecg','st_slope','thalassemia','target','exercise_induced_angina','blood_sugar']\n",
    "df[columns_to_convert] = df[columns_to_convert].astype('category')"
   ]
  },
  {
   "cell_type": "code",
   "execution_count": 23,
   "id": "f40ea4fe",
   "metadata": {},
   "outputs": [
    {
     "data": {
      "text/html": [
       "<div>\n",
       "<style scoped>\n",
       "    .dataframe tbody tr th:only-of-type {\n",
       "        vertical-align: middle;\n",
       "    }\n",
       "\n",
       "    .dataframe tbody tr th {\n",
       "        vertical-align: top;\n",
       "    }\n",
       "\n",
       "    .dataframe thead th {\n",
       "        text-align: right;\n",
       "    }\n",
       "</style>\n",
       "<table border=\"1\" class=\"dataframe\">\n",
       "  <thead>\n",
       "    <tr style=\"text-align: right;\">\n",
       "      <th></th>\n",
       "      <th>age</th>\n",
       "      <th>rest_bp</th>\n",
       "      <th>cholesterol</th>\n",
       "      <th>max_heart_rate</th>\n",
       "      <th>st_depression</th>\n",
       "      <th>vessels_fluroscopy</th>\n",
       "    </tr>\n",
       "  </thead>\n",
       "  <tbody>\n",
       "    <tr>\n",
       "      <th>count</th>\n",
       "      <td>1025.000000</td>\n",
       "      <td>1025.000000</td>\n",
       "      <td>1025.00000</td>\n",
       "      <td>1025.000000</td>\n",
       "      <td>1025.000000</td>\n",
       "      <td>1025.000000</td>\n",
       "    </tr>\n",
       "    <tr>\n",
       "      <th>mean</th>\n",
       "      <td>54.434146</td>\n",
       "      <td>131.611707</td>\n",
       "      <td>246.00000</td>\n",
       "      <td>149.114146</td>\n",
       "      <td>1.071512</td>\n",
       "      <td>0.754146</td>\n",
       "    </tr>\n",
       "    <tr>\n",
       "      <th>std</th>\n",
       "      <td>9.072290</td>\n",
       "      <td>17.516718</td>\n",
       "      <td>51.59251</td>\n",
       "      <td>23.005724</td>\n",
       "      <td>1.175053</td>\n",
       "      <td>1.030798</td>\n",
       "    </tr>\n",
       "    <tr>\n",
       "      <th>min</th>\n",
       "      <td>29.000000</td>\n",
       "      <td>94.000000</td>\n",
       "      <td>126.00000</td>\n",
       "      <td>71.000000</td>\n",
       "      <td>0.000000</td>\n",
       "      <td>0.000000</td>\n",
       "    </tr>\n",
       "    <tr>\n",
       "      <th>25%</th>\n",
       "      <td>48.000000</td>\n",
       "      <td>120.000000</td>\n",
       "      <td>211.00000</td>\n",
       "      <td>132.000000</td>\n",
       "      <td>0.000000</td>\n",
       "      <td>0.000000</td>\n",
       "    </tr>\n",
       "    <tr>\n",
       "      <th>50%</th>\n",
       "      <td>56.000000</td>\n",
       "      <td>130.000000</td>\n",
       "      <td>240.00000</td>\n",
       "      <td>152.000000</td>\n",
       "      <td>0.800000</td>\n",
       "      <td>0.000000</td>\n",
       "    </tr>\n",
       "    <tr>\n",
       "      <th>75%</th>\n",
       "      <td>61.000000</td>\n",
       "      <td>140.000000</td>\n",
       "      <td>275.00000</td>\n",
       "      <td>166.000000</td>\n",
       "      <td>1.800000</td>\n",
       "      <td>1.000000</td>\n",
       "    </tr>\n",
       "    <tr>\n",
       "      <th>max</th>\n",
       "      <td>77.000000</td>\n",
       "      <td>200.000000</td>\n",
       "      <td>564.00000</td>\n",
       "      <td>202.000000</td>\n",
       "      <td>6.200000</td>\n",
       "      <td>4.000000</td>\n",
       "    </tr>\n",
       "  </tbody>\n",
       "</table>\n",
       "</div>"
      ],
      "text/plain": [
       "               age      rest_bp  cholesterol  max_heart_rate  st_depression  \\\n",
       "count  1025.000000  1025.000000   1025.00000     1025.000000    1025.000000   \n",
       "mean     54.434146   131.611707    246.00000      149.114146       1.071512   \n",
       "std       9.072290    17.516718     51.59251       23.005724       1.175053   \n",
       "min      29.000000    94.000000    126.00000       71.000000       0.000000   \n",
       "25%      48.000000   120.000000    211.00000      132.000000       0.000000   \n",
       "50%      56.000000   130.000000    240.00000      152.000000       0.800000   \n",
       "75%      61.000000   140.000000    275.00000      166.000000       1.800000   \n",
       "max      77.000000   200.000000    564.00000      202.000000       6.200000   \n",
       "\n",
       "       vessels_fluroscopy  \n",
       "count         1025.000000  \n",
       "mean             0.754146  \n",
       "std              1.030798  \n",
       "min              0.000000  \n",
       "25%              0.000000  \n",
       "50%              0.000000  \n",
       "75%              1.000000  \n",
       "max              4.000000  "
      ]
     },
     "execution_count": 23,
     "metadata": {},
     "output_type": "execute_result"
    }
   ],
   "source": [
    "df.describe()"
   ]
  },
  {
   "cell_type": "code",
   "execution_count": 24,
   "id": "a52eb522",
   "metadata": {},
   "outputs": [
    {
     "data": {
      "image/png": "[encoded data removed]",
      "text/plain": [
       "<Figure size 1500x1000 with 6 Axes>"
      ]
     },
     "metadata": {},
     "output_type": "display_data"
    }
   ],
   "source": [
    "df.hist(figsize=(15, 10))\n",
    "plt.subplots_adjust(hspace=2.0);"
   ]
  },
  {
   "cell_type": "markdown",
   "id": "7cc5022c",
   "metadata": {},
   "source": [
    "All the numerical columns seem not to have any outliers except for vessel_fluroscopy, which the max value is supposed to be 3 for. I will rectify this issue by dropping the rows above 3.0"
   ]
  },
  {
   "cell_type": "code",
   "execution_count": 26,
   "id": "64663c6f",
   "metadata": {},
   "outputs": [],
   "source": [
    "df = df[df['vessels_fluroscopy'] <= 3]"
   ]
  },
  {
   "cell_type": "code",
   "execution_count": 28,
   "id": "5335f489",
   "metadata": {
    "scrolled": true
   },
   "outputs": [
    {
     "name": "stdout",
     "output_type": "stream",
     "text": [
      "<class 'pandas.core.frame.DataFrame'>\n",
      "Int64Index: 1007 entries, 0 to 1024\n",
      "Data columns (total 14 columns):\n",
      " #   Column                   Non-Null Count  Dtype   \n",
      "---  ------                   --------------  -----   \n",
      " 0   age                      1007 non-null   int64   \n",
      " 1   sex                      1007 non-null   category\n",
      " 2   chest_pain               1007 non-null   category\n",
      " 3   rest_bp                  1007 non-null   int64   \n",
      " 4   cholesterol              1007 non-null   int64   \n",
      " 5   blood_sugar              1007 non-null   category\n",
      " 6   rest_ecg                 1007 non-null   category\n",
      " 7   max_heart_rate           1007 non-null   int64   \n",
      " 8   exercise_induced_angina  1007 non-null   category\n",
      " 9   st_depression            1007 non-null   float64 \n",
      " 10  st_slope                 1007 non-null   category\n",
      " 11  vessels_fluroscopy       1007 non-null   int64   \n",
      " 12  thalassemia              1007 non-null   category\n",
      " 13  target                   1007 non-null   category\n",
      "dtypes: category(8), float64(1), int64(5)\n",
      "memory usage: 66.4 KB\n"
     ]
    }
   ],
   "source": [
    "df.info()\n",
    "#The drop removed around 18 entries"
   ]
  },
  {
   "cell_type": "code",
   "execution_count": 29,
   "id": "6d6ea317",
   "metadata": {},
   "outputs": [
    {
     "name": "stdout",
     "output_type": "stream",
     "text": [
      "Writing file.  \"/Users/sharanaravindh/Desktop/springboard/Github repository/Untitled Folder/Data/hearattack_cleaned.csv\"\n"
     ]
    }
   ],
   "source": [
    "#saving file\n",
    "datapath = '/Users/sharanaravindh/Desktop/springboard/Github repository/Untitled Folder/Data'\n",
    "save_file(df,'hearattack_cleaned.csv',datapath)"
   ]
  }
 ],
 "metadata": {
  "kernelspec": {
   "display_name": "Python 3 (ipykernel)",
   "language": "python",
   "name": "python3"
  },
  "language_info": {
   "codemirror_mode": {
    "name": "ipython",
    "version": 3
   },
   "file_extension": ".py",
   "mimetype": "text/x-python",
   "name": "python",
   "nbconvert_exporter": "python",
   "pygments_lexer": "ipython3",
   "version": "3.10.9"
  }
 },
 "nbformat": 4,
 "nbformat_minor": 5
}
